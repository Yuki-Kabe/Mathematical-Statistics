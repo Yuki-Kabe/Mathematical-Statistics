{
 "cells": [
  {
   "cell_type": "markdown",
   "id": "837c4f01-089e-4819-a3f7-2fbe2c6cc803",
   "metadata": {},
   "source": [
    "## 今回の内容\n",
    "ポアソン分布、指数分布、幾何分布の理解がごちゃごちゃになっているため、理解をスッキリさせたい。<br>\n",
    "\n",
    "なお、怠惰が生じて準備に時間を割けず、いまだにほとんど理解できていないので皆さんがこれらの関係性を理解しているようであれば<br>\n",
    "今日は何も得ることがないので退出していただくか、私に教えることで自信の理解をさらに高める時間にしてください。\n",
    "\n",
    "ポアソン分布から開始し、指数分布、幾何分布の順番で確認していく。<br>\n",
    "順番がごちゃごちゃな気がするが、自分で理解できるネットの資料をかき集め、スライドを作成した結果この順番になった。\n",
    "\n",
    "また、指数分布、幾何分布については無記憶性と呼ばれる性質を持つことが知られているのでこれについても時間があれば議論したい。"
   ]
  },
  {
   "cell_type": "markdown",
   "id": "b8f37e3f-7bc9-4141-808e-8b7c0050cf3f",
   "metadata": {},
   "source": [
    "まず全ての分布の定義について確認してから関係性について見ていく。"
   ]
  },
  {
   "cell_type": "markdown",
   "id": "1fbbd4e3-b9cf-49b3-9ac0-589d0b4915e2",
   "metadata": {},
   "source": [
    "### ポアソン分布\n",
    "\n",
    "一定の期間( <font size=1>$ex$</font> : 1時間, 1日, 1ヶ月)において、ある事象が k 回起きる確率\n",
    "\n",
    "$P(x=k) = \\frac{\\lambda^k}{k!}e^{-\\lambda}$<br>\n",
    "$\\lambda$ : 定めた期間に事象が起こる平均回数"
   ]
  },
  {
   "cell_type": "markdown",
   "id": "dc75d375-ee67-494a-82d0-9b5da371c4cb",
   "metadata": {},
   "source": [
    "### 指数分布\n",
    "\n",
    "ある事象が起きてから、つぎに事象がおこるまでにかかる時間 $X$ が従う分布<br>\n",
    "\n",
    "$f(X=x) = \\lambda e^{-\\lambda x}$ $(x \\geq 0)$<br>\n",
    "$\\lambda$ : 定めた期間に事象が起こる平均回数"
   ]
  },
  {
   "cell_type": "markdown",
   "id": "196d6c2a-0d4d-43fb-b0af-d9176ad897ff",
   "metadata": {},
   "source": [
    "### 幾何分布\n",
    "成功確率 $p$ のベルヌーイ試行が成功するまでに$k$回失敗する確率<br>\n",
    "\n",
    "$P(x=k) = p(1-p)^{k}$"
   ]
  },
  {
   "cell_type": "markdown",
   "id": "8a124781-1107-474a-a03f-65dd9f333daf",
   "metadata": {},
   "source": [
    "## ポアソン分布と指数分布の関係性について\n",
    "\n",
    "以下のような関係になっている\n",
    "\n",
    "<table>\n",
    "<td>\n",
    "<img src=\"./images/確率分布/ポアソン分布と指数分布の関係性-1.jpg\" width=\"600\" alt=\"getter_icon\">\n",
    "</td>\n",
    "</table>\n",
    "\n",
    "<https://bellcurve.jp/statistics/course/8009.html>より\n",
    "\n"
   ]
  },
  {
   "cell_type": "markdown",
   "id": "fa4834db-ca3c-4994-b198-49f8f82d49d9",
   "metadata": {},
   "source": [
    "指数分布はある期間に$\\lambda$回起こる事象について、間隔について考えたもの<br>\n",
    "ポアソン分布はある期間のうちで何回起こるのかについて考えたものである<br>\n",
    "これを踏まえて、\n",
    "\n",
    "下の図は 1時間に平均で $\\lambda$回電話がかかってくる事象について考えたものである\n",
    "\n",
    "ポアソン分布は1時間のうちに何回電話がかかってきたかについて考える<br>\n",
    "指数分布は1時間平均 $\\lambda$ 回電話がかかってくる事象?について、1度かかってきてから次にどのくらい時間があくかについて考える\n",
    "\n",
    "<table>\n",
    "<td>\n",
    "<img src=\"./images/確率分布/ポアソン分布と指数分布の関係性-2.jpg\" width=\"600\" alt=\"getter_icon\">\n",
    "</td>\n",
    "</table>\n",
    "\n",
    "<https://mathlandscape.com/exp-distrib/>より"
   ]
  },
  {
   "cell_type": "markdown",
   "id": "3fac9a78-56fb-4b25-9b04-2ab7d52e4215",
   "metadata": {},
   "source": [
    "### ポアソン分布から指数分布を導く\n",
    "\n",
    "ポアソン分布から指数分布を導くことができる。<br>\n",
    "わかりやすさのため、1時間に平均して $\\lambda$ 回かかってくることにする\n",
    "\n",
    "理解ができていないため、文章間において日本語のつながりがおかしい部分が連発する。適宜自分の頭の中で置き換えていただきたい。<br>\n",
    "\n",
    "一度電話がかかってきてから再び事象が起きるまでの時間が $x \\geq 0$ より大きくなる確率を考える。<br>\n",
    "これは期間 $x$ の間、事象が起きていない (事象の回数が0である) ということである。<br>\n",
    "期間 x で区切って事象を観測すると事象は平均 $\\lambda x $ 回おきる。<br>\n",
    "よって $P(X>x)$はポアソン分布における $k=0$ の確率 $P(k=0) = \\frac{(\\lambda x)^k}{k!}e^{-\\lambda x } |_{k=0} = e^{-\\lambda x}$に等しい<br>\n",
    "余事象の確率を考えれば、累積分布関数は、<br>\n",
    "$F(x) = P(X \\leq x) = 1 - P(X \\geq x) = 1 - e^{-\\lambda x}$ となる。<br>\n",
    "これを微分して確率密度関数 $f(x) = \\lambda e^{-\\lambda x}$ を得る。\n",
    "\n",
    "<http://www.rokakuho.co.jp/data/books/0123.html> p69より"
   ]
  },
  {
   "cell_type": "markdown",
   "id": "07c2874b-7aea-4871-875e-999e4fbfae2a",
   "metadata": {},
   "source": [
    "## 指数分布と幾何分布の関係性について\n",
    "\n",
    "幾何分布は離散的な待ち時間の分布と言われているが、パラメータに $\\lambda$ を含んでいないため、上の例において指数分布とどう対応しているのか私にはわからない。<br>\n",
    "わかる人います？\n",
    "\n",
    "下では、指数分布に従う変数を整数にしたときにそれの従う確率分布が幾何分布であることを示している。<br>\n",
    "つまり、指数分布で 1.1時間 などとしていたものを => 1時間　のように離散化した場合の分布が幾何分布であるということなのだろうと推測する\n",
    "\n",
    "<table>\n",
    "<td>\n",
    "<img src=\"./images/確率分布/指数分布と幾何分布の関係性.jpg\" width=\"600\" alt=\"getter_icon\">\n",
    "</td>\n",
    "</table>\n",
    "\n",
    "qは指数分布において何を表すのだろうか？\n",
    "\n",
    "<https://yanbow221.hatenablog.com/entry/2017/09/06/211456>より"
   ]
  },
  {
   "cell_type": "markdown",
   "id": "24c3a114-02a9-4376-833c-71f7f13290eb",
   "metadata": {},
   "source": [
    "##　無記憶性について\n",
    "幾何分布、指数分布ともに無記憶性(マルコフ性)とよばれる性質を持つ。\n",
    "\n",
    "これは \" 以前までの結果が後の結果に影響を与えないこと \"を指す。\n",
    "\n",
    "つまり、\n",
    "\n",
    "$m,n \\in \\{0,1,2,...\\}$において<br>\n",
    "$P(X>m+n∣X>m)=P(X>n)$\n",
    "\n",
    "\n",
    "\n",
    "連続の場合は以下のようになる\n",
    "\n",
    "$t,s \\in [0,\\infty)$において<br>\n",
    "$P(X>t+s|X>t) = P(X>s)$\n",
    "\n",
    "証明(幾何分布)\n",
    "\n",
    "<https://multivariate-statistics.com/2021/01/25/statistics-memorylessness-property/>より"
   ]
  }
 ],
 "metadata": {
  "kernelspec": {
   "display_name": "Python 3 (ipykernel)",
   "language": "python",
   "name": "python3"
  },
  "language_info": {
   "codemirror_mode": {
    "name": "ipython",
    "version": 3
   },
   "file_extension": ".py",
   "mimetype": "text/x-python",
   "name": "python",
   "nbconvert_exporter": "python",
   "pygments_lexer": "ipython3",
   "version": "3.9.12"
  }
 },
 "nbformat": 4,
 "nbformat_minor": 5
}
