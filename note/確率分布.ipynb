{
 "cells": [
  {
   "cell_type": "code",
   "execution_count": null,
   "metadata": {
    "id": "Wu2YX3y_kppf"
   },
   "outputs": [],
   "source": [
    "import numpy as np\n",
    "import matplotlib.pyplot as plt"
   ]
  },
  {
   "cell_type": "markdown",
   "metadata": {
    "id": "dmIwRPocmYwk"
   },
   "source": [
    "# 参考資料\n",
    "[SciPyのDocs](https://docs.scipy.org/doc/scipy/reference/stats.html)<br>\n",
    "[TeXのColab](https://colab.research.google.com/github/kalz2q/mycolabnotebooks/blob/master/learnlatex.ipynb#scrollTo=GV3TDo_bTfD9)"
   ]
  },
  {
   "cell_type": "markdown",
   "metadata": {
    "id": "AQYf4-hU3zsi"
   },
   "source": [
    "## 画像の挿入方法\n",
    "\n",
    "<!-- テンプレート 以下をコピー\n",
    "\n",
    "<table>\n",
    "<tr>\n",
    "<td>\n",
    "<img src=\"https://drive.google.com/uc?export=view&id=\" width=\"500\" alt=\"getter_icon\">\n",
    "</td>\n",
    "</tr>\n",
    "</table>\n",
    "\n",
    "-->\n",
    "\n",
    "id= 以下を画像の共有リンクの\n",
    "\n",
    "<table>\n",
    "<tr>\n",
    "<td>\n",
    "<img src=\"https://drive.google.com/uc?export=view&id=17vSwQ-cvZT-EicuoUt89y1IUVjHwfGxU\" width=\"500\" alt=\"getter_icon\">\n",
    "</td>\n",
    "</tr>\n",
    "</table>\n",
    "\n",
    "この部分にする"
   ]
  },
  {
   "cell_type": "markdown",
   "metadata": {
    "id": "8Yl6nXvMkxNf",
    "tags": []
   },
   "source": [
    "# 離散型"
   ]
  },
  {
   "cell_type": "markdown",
   "metadata": {
    "id": "xqCdYvVnNCRe",
    "jp-MarkdownHeadingCollapsed": true,
    "tags": []
   },
   "source": [
    "## ベルヌーイ分布"
   ]
  },
  {
   "cell_type": "markdown",
   "metadata": {},
   "source": [
    "**確率質量関数** \n",
    "$$成功率 p のベルヌーイ試行 \\\\\n",
    "P(X|p)=\\begin{cases}\n",
    "p & (X=1) \\\\\n",
    "1-p & (X=0)\n",
    "\\end{cases}$$\n",
    "\n",
    "---\n",
    "\n",
    "**期待値**\n",
    "\n",
    "\n",
    "$$E(X)=p$$\n",
    "\n",
    "---\n",
    "\n",
    "**分散**\n",
    "\n",
    "$$Var(X)=p(1-p)$$\n",
    "\n",
    "---\n",
    "\n",
    "**積率母関数**\n",
    "$$M_X(t)=e^tp+1-p$$\n"
   ]
  },
  {
   "cell_type": "markdown",
   "metadata": {
    "jp-MarkdownHeadingCollapsed": true,
    "tags": []
   },
   "source": [
    "### 証明"
   ]
  },
  {
   "cell_type": "markdown",
   "metadata": {},
   "source": [
    "<table>\n",
    "    <td>\n",
    "        <img src=\"./images/確率分布/ベルヌーイ分布.jpg\" height=200 width=700>\n",
    "    </td>\n",
    "</table>"
   ]
  },
  {
   "cell_type": "markdown",
   "metadata": {
    "jp-MarkdownHeadingCollapsed": true,
    "tags": []
   },
   "source": [
    "### グラフ"
   ]
  },
  {
   "cell_type": "code",
   "execution_count": 9,
   "metadata": {},
   "outputs": [
    {
     "data": {
      "image/png": "[encoded data removed]",
      "text/plain": [
       "<Figure size 432x288 with 1 Axes>"
      ]
     },
     "metadata": {
      "needs_background": "light"
     },
     "output_type": "display_data"
    }
   ],
   "source": [
    "from scipy.stats import bernoulli\n",
    "import matplotlib.pyplot as plt\n",
    "fig, ax = plt.subplots(1, 1)\n",
    "\n",
    "# パラメーター\n",
    "p = 0.8\n",
    "\n",
    "# グラフ\n",
    "x = [0, 1]\n",
    "y = bernoulli.pmf(x,p)\n",
    "ax.bar(x,y)\n",
    "ax.set_xticks([0,1])\n",
    "plt.show()"
   ]
  },
  {
   "cell_type": "markdown",
   "metadata": {
    "id": "nJCwFQ-_NFu3",
    "jp-MarkdownHeadingCollapsed": true,
    "tags": []
   },
   "source": [
    "## 二項分布"
   ]
  },
  {
   "cell_type": "markdown",
   "metadata": {
    "id": "xhE_wfHJpG1a"
   },
   "source": [
    "**確率質量関数** \n",
    "$$成功率pのベルヌーイ試行をn回行ったとき、k回成功する確率\\\\\n",
    "P(X=k)={}_nC_kp^k(1-p)^{n-k}$$\n",
    "\n",
    "---\n",
    "\n",
    "**期待値**\n",
    "\n",
    "\n",
    "$$E(X)=np$$\n",
    "\n",
    "---\n",
    "\n",
    "**分散**\n",
    "\n",
    "$$Var(X)=np(1-p)$$\n",
    "\n",
    "---\n",
    "\n",
    "**積率母関数**\n",
    "$$M_X(t)=(e^tp+1-p)^n$$\n",
    "\n",
    "---\n",
    "\n",
    "**再生性**\n",
    "$$XとYが独立で,\\ X \\sim Bin(n,p),\\; Y \\sim Bin(m,p)\\ のとき、\\\\\n",
    "X+Y \\sim Bin(n+m,p)$$"
   ]
  },
  {
   "cell_type": "markdown",
   "metadata": {
    "jp-MarkdownHeadingCollapsed": true,
    "tags": []
   },
   "source": [
    "### 証明"
   ]
  },
  {
   "cell_type": "markdown",
   "metadata": {
    "id": "YORMu0T-43jG"
   },
   "source": [
    "<table>\n",
    "<td>\n",
    "<img src=\"https://drive.google.com/uc?export=view&id=1JY_MYNKtANl8k8ucBTqrxjqEuV42m0xz\" width=\"600\" alt=\"getter_icon\">\n",
    "</td>\n",
    "</table>\n",
    "<table>\n",
    "<td>\n",
    "<img src=\"https://drive.google.com/uc?export=view&id=14vH6Ksa0Wm9se7fnYGZ3l1PTRLQHlhpI\" width=\"600\" alt=\"getter_icon\">\n",
    "</td>\n",
    "</table>"
   ]
  },
  {
   "cell_type": "markdown",
   "metadata": {
    "jp-MarkdownHeadingCollapsed": true,
    "tags": []
   },
   "source": [
    "### グラフ"
   ]
  },
  {
   "cell_type": "code",
   "execution_count": 6,
   "metadata": {
    "colab": {
     "base_uri": "https://localhost:8080/",
     "height": 265
    },
    "id": "niY22xXJ-HF0",
    "outputId": "96b1dbb8-dd4a-4600-fd41-01fd2b202a9a"
   },
   "outputs": [
    {
     "data": {
      "image/png": "[encoded data removed]",
      "text/plain": [
       "<Figure size 432x288 with 1 Axes>"
      ]
     },
     "metadata": {
      "needs_background": "light"
     },
     "output_type": "display_data"
    }
   ],
   "source": [
    "from scipy.stats import binom\n",
    "import matplotlib.pyplot as plt\n",
    "fig, ax = plt.subplots(1,1)\n",
    "\n",
    "# パラメーター\n",
    "n = 10\n",
    "p = 0.3\n",
    "\n",
    "# グラフ\n",
    "x = range(n)\n",
    "y = binom.pmf(x, n, p)\n",
    "ax.bar(x,y)\n",
    "plt.show()"
   ]
  },
  {
   "cell_type": "markdown",
   "metadata": {
    "id": "XESFb06xNTql"
   },
   "source": [
    "## 負の二項分布"
   ]
  },
  {
   "cell_type": "markdown",
   "metadata": {
    "id": "HIL3DEqrNHgD",
    "jp-MarkdownHeadingCollapsed": true,
    "tags": []
   },
   "source": [
    "## ポアソン分布"
   ]
  },
  {
   "cell_type": "markdown",
   "metadata": {},
   "source": [
    "**確率質量関数** \n",
    "$$ 平均\\lambda のポアソン分布 \\\\\n",
    "P(X=k)=\\frac{\\lambda^k}{k!} e^{-\\lambda}$$\n",
    "\n",
    "---\n",
    "\n",
    "**期待値**\n",
    "\n",
    "\n",
    "$$E(X)=\\lambda$$\n",
    "\n",
    "---\n",
    "\n",
    "**分散**\n",
    "\n",
    "$$Var(X)=\\lambda$$\n",
    "\n",
    "---\n",
    "\n",
    "**積率母関数**\n",
    "$$M_X(t)=e^{\\lambda(e^t-1)}$$\n"
   ]
  },
  {
   "cell_type": "markdown",
   "metadata": {
    "jp-MarkdownHeadingCollapsed": true,
    "tags": []
   },
   "source": [
    "### 証明"
   ]
  },
  {
   "cell_type": "markdown",
   "metadata": {},
   "source": [
    "<table>\n",
    "    <td>\n",
    "        <img src=\"./images/確率分布/ポアソン分布.jpg\" height=200 width=700>\n",
    "    </td>\n",
    "</table>"
   ]
  },
  {
   "cell_type": "markdown",
   "metadata": {
    "jp-MarkdownHeadingCollapsed": true,
    "tags": []
   },
   "source": [
    "### グラフ"
   ]
  },
  {
   "cell_type": "code",
   "execution_count": 16,
   "metadata": {},
   "outputs": [
    {
     "data": {
      "image/png": "[encoded data removed]",
      "text/plain": [
       "<Figure size 432x288 with 1 Axes>"
      ]
     },
     "metadata": {
      "needs_background": "light"
     },
     "output_type": "display_data"
    }
   ],
   "source": [
    "from scipy.stats import poisson\n",
    "import matplotlib.pyplot as plt\n",
    "fig, ax = plt.subplots(1,1)\n",
    "\n",
    "# パラメーター\n",
    "n = 15\n",
    "lambda_ = 2\n",
    "\n",
    "# グラフ\n",
    "x = range(n)\n",
    "y = poisson.pmf(x, lambda_)\n",
    "ax.bar(x,y)\n",
    "plt.show()"
   ]
  },
  {
   "cell_type": "markdown",
   "metadata": {
    "id": "d5L2RCw9NKA6"
   },
   "source": [
    "## 幾何分布"
   ]
  },
  {
   "cell_type": "markdown",
   "metadata": {
    "id": "NTT1WbnRNMW2"
   },
   "source": [
    "## 超幾何分布"
   ]
  },
  {
   "cell_type": "markdown",
   "metadata": {
    "id": "sv-wmZqKNP1z"
   },
   "source": [
    "## 多項分布"
   ]
  },
  {
   "cell_type": "markdown",
   "metadata": {
    "id": "j9amLsmjk50B",
    "tags": []
   },
   "source": [
    "# 連続型"
   ]
  },
  {
   "cell_type": "markdown",
   "metadata": {
    "id": "yi78M0lYlAip",
    "jp-MarkdownHeadingCollapsed": true,
    "tags": []
   },
   "source": [
    "## 一様分布\n",
    "\n"
   ]
  },
  {
   "cell_type": "markdown",
   "metadata": {
    "id": "Gz8rGw3_Fwvq"
   },
   "source": [
    "**確率密度関数** \n",
    "$$[a,b]を台にもつ一様分布とは\\\\\n",
    "f(x)=\n",
    "\\begin{cases}\n",
    "\\frac{1}{b-a} & (a \\leq x \\leq b)\\\\\n",
    "0 & (otherwise)\n",
    "\\end{cases}$$\n",
    "\n",
    "---\n",
    "\n",
    "**期待値**\n",
    "\n",
    "\n",
    "$$E(X)=\\frac{a+b}{2}$$\n",
    "\n",
    "---\n",
    "\n",
    "**分散**\n",
    "\n",
    "$$Var(X)=\\frac{(b-a)^2}{12}$$\n",
    "\n",
    "\n",
    "---\n",
    "\n",
    "**分布関数**\n",
    "$$F(x)=\n",
    "\\begin{cases}\n",
    "0 & (x<a)\\\\\n",
    "\\frac{x-a}{b-a} & (a \\leq x \\leq b)\\\\\n",
    "1 & (b \\leq x)\n",
    "\\end{cases}$$\n",
    "\n",
    "---\n",
    "\n",
    "**積率母関数**\n",
    "$$M_X(t)=\\frac{e^{ta}-e^{tb}}{t(b-a)} \\quad ただし t \\neq 0$$"
   ]
  },
  {
   "cell_type": "markdown",
   "metadata": {
    "id": "mQQw6IX6Diza"
   },
   "source": [
    "<table>\n",
    "<td>\n",
    "<img src=\"https://drive.google.com/uc?export=view&id=1PbifOxOUR5snJ2yWh12wS3ETzN68nzIK\" width=\"600\" alt=\"getter_icon\"></td>\n",
    "<tr>\n",
    "</table>\n",
    "<table>\n",
    "<td><img src=\"https://drive.google.com/uc?export=view&id=1m0w8vy345uYpHj9I8s76v55GMg6Q_L6k\" width=\"600\" alt=\"getter_icon\"></td>\n",
    "</table>"
   ]
  },
  {
   "cell_type": "code",
   "execution_count": null,
   "metadata": {
    "colab": {
     "base_uri": "https://localhost:8080/",
     "height": 265
    },
    "id": "jXe5LHBe2tA7",
    "outputId": "72f1dd09-c373-4bae-b96f-8bfa4422ce6a"
   },
   "outputs": [
    {
     "data": {
      "image/png": "[encoded data removed]",
      "text/plain": [
       "<Figure size 432x288 with 1 Axes>"
      ]
     },
     "metadata": {
      "needs_background": "light"
     },
     "output_type": "display_data"
    }
   ],
   "source": [
    "from scipy.stats import uniform\n",
    "fig, ax = plt.subplots(1, 1)\n",
    "\n",
    "# 確率密度関数\n",
    "x = np.linspace(uniform.ppf(0.01),\n",
    "                uniform.ppf(0.99), 100)\n",
    "ax.plot(x, uniform.pdf(x),\n",
    "       'r-', lw=5, alpha=0.6, label='uniform pdf')\n",
    "\n",
    "# ヒストグラム\n",
    "r = uniform.rvs(size=1000)\n",
    "ax.hist(r, density=True, histtype='stepfilled', alpha=0.2)\n",
    "plt.show()"
   ]
  },
  {
   "cell_type": "markdown",
   "metadata": {
    "id": "KtBY_rWxK6RF"
   },
   "source": [
    "## 指数分布"
   ]
  },
  {
   "cell_type": "markdown",
   "metadata": {
    "id": "JM2Xt7XoU3vl",
    "jp-MarkdownHeadingCollapsed": true,
    "tags": []
   },
   "source": [
    "## 正規分布\n"
   ]
  },
  {
   "cell_type": "markdown",
   "metadata": {
    "id": "k7yTq0nTU9cH"
   },
   "source": [
    "**確率密度関数**\n",
    "\n",
    "$$f(x,(\\mu,\\sigma))=\\frac{1}{\\sqrt{2\\pi \\sigma^2}}exp(- \\frac{(x- \\mu)^2}{2 \\sigma^2})$$\n",
    "\n",
    "---\n",
    "**期待値**\n",
    "\n",
    "$$μ$$\n",
    "\n",
    "---\n",
    " **分散**\n",
    "\n",
    "$$\\sigma^2$$\n",
    "\n",
    "---\n",
    "**分布関数**\n",
    "\n",
    "$$\\frac{1}{2}\\big( 1+ erf(\\frac{x-\\mu}{\\sqrt{2\\sigma^2}})\\big) \\quad\\quad \\bigg (\\; erf(x)=\\frac{2}{\\sqrt{\\pi}} \\int_{0}^x e^{-t^2}dt\\; \\bigg)$$\n",
    "\n",
    "<br>　　　　　　　　　　　　　　　　　　　　　　　　　　初等関数で表すことができない\n",
    "\n",
    "--- \n",
    "**積率母関数**\n",
    "\n",
    "$$M_x(t)=exp(\\:\\mu t + \\frac{\\sigma^2t^2}{2}\\:)$$\n",
    "\n",
    "---\n",
    "**再生性**\n",
    "\n",
    "$$\n",
    "XとYが独立で,\\ \n",
    "X\\sim N(\\mu_1,\\sigma_1^2), \\;Y \\sim N(\\mu_2, \\sigma_2^2)\\ のとき\\\\\n",
    "X+Y \\sim N(\\mu_1+\\mu_2 ,\\sigma_1^2+\\sigma_2^2)$$"
   ]
  },
  {
   "cell_type": "markdown",
   "metadata": {
    "id": "EaQAETybmqS2"
   },
   "source": [
    "<table>\n",
    "<td>\n",
    "<img src=\"https://drive.google.com/uc?export=view&id=16J2N8HtvgOVjuBVBmDLBhFPEvmr5cIGq\" width=\"600\" alt=\"getter_icon\">\n",
    "</td>\n",
    "</table>\n",
    "<table>\n",
    "<td>\n",
    "<img src=\"https://drive.google.com/uc?export=view&id=1H5DwUMx_LNicvQwlL64eFilN70sz83Rl\" width=\"600\" alt=\"getter_icon\">\n",
    "</td>\n",
    "</table>"
   ]
  },
  {
   "cell_type": "code",
   "execution_count": null,
   "metadata": {
    "colab": {
     "base_uri": "https://localhost:8080/",
     "height": 265
    },
    "id": "GbFfUtdrHQ_s",
    "outputId": "cc605bd2-8a95-44ac-e48d-097400922a1d"
   },
   "outputs": [
    {
     "data": {
      "image/png": "[encoded data removed]",
      "text/plain": [
       "<Figure size 432x288 with 1 Axes>"
      ]
     },
     "metadata": {
      "needs_background": "light"
     },
     "output_type": "display_data"
    }
   ],
   "source": [
    "from scipy.stats import norm\n",
    "fig, ax = plt.subplots(1, 1)\n",
    "\n",
    "# パラメーター\n",
    "mu = 3\n",
    "sigma = 2\n",
    "\n",
    "# 確率密度関数 \n",
    "x = np.linspace(norm.ppf(0.01, loc=mu, scale=sigma),\n",
    "                norm.ppf(0.99, loc=mu, scale=sigma), 100)\n",
    "ax.plot(x, norm.pdf(x, loc=mu, scale=sigma),\n",
    "       'r-', lw=5, alpha=0.6, label='uniform pdf')\n",
    "\n",
    "# ヒストグラム\n",
    "r = norm.rvs(size=1000, loc=mu, scale=sigma)\n",
    "ax.hist(r, density=True, histtype='stepfilled', alpha=0.2)\n",
    "plt.show()"
   ]
  },
  {
   "cell_type": "markdown",
   "metadata": {
    "id": "DNyVqAWPLVrX"
   },
   "source": [
    "## 多変量正規分布"
   ]
  },
  {
   "cell_type": "markdown",
   "metadata": {
    "id": "TtSLL1qpLm18"
   },
   "source": [
    "## 対数正規分布"
   ]
  },
  {
   "cell_type": "markdown",
   "metadata": {
    "id": "RQ0KDyx9LPN3"
   },
   "source": [
    "## アーラン分布"
   ]
  },
  {
   "cell_type": "markdown",
   "metadata": {
    "id": "Nq8nGNeCLljN"
   },
   "source": [
    "## ガンマ分布"
   ]
  },
  {
   "cell_type": "markdown",
   "metadata": {
    "id": "PrMhBMDILsFa"
   },
   "source": [
    "## ベータ分布"
   ]
  },
  {
   "cell_type": "markdown",
   "metadata": {
    "id": "HGCW9YUWLuLR"
   },
   "source": [
    "## コーシー分布"
   ]
  },
  {
   "cell_type": "markdown",
   "metadata": {
    "id": "VB9KxF_5LwoH"
   },
   "source": [
    "## ワイブル分布"
   ]
  },
  {
   "cell_type": "markdown",
   "metadata": {
    "id": "fvFVhIwvNpq0",
    "jp-MarkdownHeadingCollapsed": true,
    "tags": []
   },
   "source": [
    "# 標本分布"
   ]
  },
  {
   "cell_type": "markdown",
   "metadata": {
    "id": "kjJ6mZJKNuIj"
   },
   "source": [
    "## $\\chi^2$分布"
   ]
  },
  {
   "cell_type": "markdown",
   "metadata": {
    "id": "Oh0oSR86OSM4"
   },
   "source": [
    "## $t$分布"
   ]
  },
  {
   "cell_type": "markdown",
   "metadata": {
    "id": "0BLNbuAyOVmo"
   },
   "source": [
    "## $F$分布"
   ]
  }
 ],
 "metadata": {
  "colab": {
   "collapsed_sections": [
    "dmIwRPocmYwk",
    "8Yl6nXvMkxNf",
    "nJCwFQ-_NFu3",
    "j9amLsmjk50B",
    "yi78M0lYlAip",
    "JM2Xt7XoU3vl",
    "fvFVhIwvNpq0"
   ],
   "name": "確率分布",
   "provenance": []
  },
  "kernelspec": {
   "display_name": "Python 3 (ipykernel)",
   "language": "python",
   "name": "python3"
  },
  "language_info": {
   "codemirror_mode": {
    "name": "ipython",
    "version": 3
   },
   "file_extension": ".py",
   "mimetype": "text/x-python",
   "name": "python",
   "nbconvert_exporter": "python",
   "pygments_lexer": "ipython3",
   "version": "3.9.12"
  }
 },
 "nbformat": 4,
 "nbformat_minor": 4
}
