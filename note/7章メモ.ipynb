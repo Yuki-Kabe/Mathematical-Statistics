{
 "cells": [
  {
   "cell_type": "markdown",
   "id": "2123bd48-4bdb-4d99-bfb1-ee41f31615e3",
   "metadata": {},
   "source": [
    "### 不偏推定量とは\n",
    "\n",
    "点推定とは未知パラメータ$\\theta$の値を統計量$T=\\delta(X)$によってできるだけ正確に当てようとするものである。<br>\n",
    "$\\delta(X)$は確率変数であるから常に精度良く$\\theta$を推定できるとは限らない。そこで$\\delta(X)$が平均的にに近くなるような推定量を得ることを考える。<br>\n",
    "5章ではこのような場合平均二乗誤差$E_\\theta[(\\delta(X)-\\theta)^2]$を用いることを提案した。<br>\n",
    "点推定論では$\\delta(X)$などを推定量とよび、$\\delta(X)=\\hat{\\theta}(X)$などのように表す。推定量の実現値を推定値といい、$\\hat{\\theta}(x)$などと表す。<br>\n",
    "平均二乗誤差を小さくするといっても、一般に全ての$\\theta$について一様に平均二乗誤差を小さくすることはできない。そこで、統計学の伝統的な考え方は推定量のクラスを制限し、制限されたクラスの中で平均二乗誤差を最小にする推定量を求めようとする。<br>\n",
    "推定量のクラスの代表的なものとして、不偏推定量があげられる。\n",
    "\n",
    "---\n",
    "定義(不偏推定量)\n",
    "$$任意の\\thetaについて推定量\\hat{\\theta}の期待値が\\thetaに一致するとき、\\hat{\\theta}を不偏推定量という\\\\\n",
    "つまり、{}^\\forall \\theta, \\; E_\\theta[\\hat{\\theta}(X)]=\\thetaが成立することである。$$\n",
    "\n",
    "---\n",
    "\n",
    "不偏性とは$\\hat{\\theta}$が平均的に$\\theta$の周りで分布していることを意味する。"
   ]
  },
  {
   "cell_type": "markdown",
   "id": "c6e5554f-abba-436a-829c-679c6a78bad0",
   "metadata": {},
   "source": [
    "### バイアスについて\n",
    "\n",
    "推定量はもちろん不偏推定量以外にも存在するので他の推定量について考える。<br>\n",
    "パラメータの真の値$\\theta$と推定量$\\hat{\\theta}$の期待値のズレを$\\hat{\\theta}$のバイアスとして以下のように定義する。<br>\n",
    "\n",
    "---\n",
    "定義(バイアス)\n",
    "\n",
    "$$\n",
    "b(\\theta)=E_\\theta[\\hat{\\theta}]-\\theta$$\n",
    "\n",
    "---\n",
    "\n",
    "$\\hat{\\theta}$が不偏推定量であるとき、不偏推定量の定義より、バイアスは0となる\n",
    "\n",
    "平均二乗誤差はバイアスを用いると$E_\\theta[(\\hat{\\theta}-\\theta)^2]=Var_\\theta[\\hat{\\theta}]+b(\\theta)^2$と分解できる。<br>\n",
    "この式より、$\\theta$の推定量$\\hat{\\theta}$がバイアスを持つ場合、推定量を修正して$b(\\theta)=0$とすることができれば、平均二乗誤差が小さくなると期待される。<br>"
   ]
  },
  {
   "cell_type": "markdown",
   "id": "e9b64bfb-bde9-4742-9656-8eb45775ebd1",
   "metadata": {
    "tags": []
   },
   "source": [
    "### 一様最小分散不偏推定量(UMVUE)について\n",
    "\n",
    "平均二乗誤差を小さくするにはバイアスを小さくするような推定量を求めれば良いと考えるが、推定しようとしている真の$\\theta$の値は我々にはわからないため、バイアス$b(\\theta)$の修正は容易ではない<br>\n",
    "また、$Var_\\theta[\\hat{\\theta}]$も無視できないため、$b(\\theta)$を修正したとしても、$Var_\\theta[\\hat{\\theta}]$が増大し、結果的に平均二乗誤差が大きくなることもある。<br>\n",
    "不偏推定量の場合は$b(\\theta)=0$であるため、そのなかで分散$Var_\\theta[\\hat{\\theta}]$を一番小さくするような推定量を採用するのが望ましいと考えられる。<br>\n",
    "不偏推定量のなかでよい推定量が見つからなかったり、不偏推定量を構成すること自体が難しい場合には、最尤法を用いることが一般的である。理論的な裏付けは漸近的な最適性によってなされる(13章 漸近理論)<br>\n",
    "\n",
    "不偏推定量がいくつか構成することができたとしよう。再掲するが、不偏推定量の場合バイアス$b(\\theta)=0$であるから$E_\\theta[(\\hat{\\theta}-\\theta)^2]=Var_\\theta[\\hat{\\theta}]$となる。<br>\n",
    "この式より、不偏推定量にクラスを限定して議論する場合は分散を最小にする推定量が望ましい推定量であると考えられ、<br>\n",
    "そのような不偏推定量を一様最小分散不偏推定量: UMVUE (Uniformly Minimum Variance Unbiased Estimator)という。<br>\n",
    "\n",
    "---\n",
    "定義(UMVUE)\n",
    "$$\n",
    "不偏推定量\\hat{\\theta}＊がUMVUであるとは、\\\\\n",
    "任意の不偏推定量\\hat{\\theta}について、\\thetaがどのような値であっても、Var_\\theta[\\hat{\\theta}*] \\leq Var_\\theta[\\hat{\\theta}]が成立することである。\n",
    "$$\n",
    "\n",
    "---\n",
    "\n",
    "いくつかの分布とそのパラメータ$\\theta$についてはUMVUEが存在することが示される。\n",
    "\n",
    "与えられた不偏推定量がUMVUであることを示すには2つの方法がある。<br>\n",
    "1. フィッシャー情報量に基づくクラメル・ラオの不等式を用いる方法<br>\n",
    "2. 完備十分統計量の理論を用いる方法である。<br>\n"
   ]
  },
  {
   "cell_type": "markdown",
   "id": "1c7d8993-b4b9-4a4a-a3f7-dcc54a10da61",
   "metadata": {},
   "source": [
    "### クラメル・ラオの不等式、フィッシャー情報量について\n",
    "\n",
    "クラメル・ラオの不等式のためにまずスコア統計量、フィッシャー情報量を定義する。これらは以下のように定義される。\n",
    "\n",
    "---\n",
    "定義(スコア統計量、フィッシャー情報量)\n",
    "\n",
    "$$\n",
    "X=(X_1,X_2,...,X_n)のpdfおよびpmfをf_n(x|\\theta)、対数尤度関数を\\ell(x,\\theta)とする。\\\\\n",
    "$$\n",
    "$$\n",
    "このとき、スコア統計量\\:U(\\theta)とは \\\\U(\\theta) = \\frac{d}{d\\theta}\\ell(x,\\theta)\\;で表される量である\\\\\n",
    "$$\n",
    "\n",
    "$$\n",
    "また、\\thetaに関するフィッシャー情報量I_n(\\theta)とは、\\\\\n",
    "I_n(\\theta)=Var_\\theta[U]\\; \\big(=E_\\theta[U^2]\\;=-E_\\theta[U{}^\\prime]\\big)\\;で表される量である。\n",
    "$$\n",
    "\n",
    "---\n",
    "\n",
    "このフィッシャー情報量を用いるクラメル・ラオの不等式の主張は以下のようになる\n",
    "\n",
    "---\n",
    "定理(クラメル・ラオの不等式)\n",
    "$$\n",
    "\\hat{\\theta}を\\thetaの不偏推定量とする。このときフィッシャー情報量が正であること、\\frac{d}{d\\theta}\\int \\hat{\\theta}(\\boldsymbol{x})f_n(\\boldsymbol{x}|\\theta)d\\boldsymbol{x} = \\int\\hat{\\theta}(\\boldsymbol{x}) \\:\\frac{d}{d\\theta} f_n(\\boldsymbol{x}|\\theta)\\:d\\boldsymbol{x}が成り立つもとで、以下が成立 \\\\\n",
    "任意の\\thetaに対して、Var_\\theta(\\hat{\\theta})\\: \\geq \\:\\frac{1}{I_n(\\theta)} \\\\\n",
    "この不等式の右辺をクラメル・ラオの下限という。\n",
    "$$\n",
    "\n",
    "---\n",
    "\n",
    "クラメル・ラオの不等式は不偏推定量の分散の最小値を与える不等式である。<br>\n",
    "なお、仮定にあるクラメル・ラオの不等式の導出中に出現する微分と積分の交換ができない場合にはこの不等式は成り立たないことに注意する。(ex 一様分布はできない)\n",
    "\n"
   ]
  },
  {
   "cell_type": "markdown",
   "id": "1d50d925-dba1-47a6-aa88-9a1ba0242653",
   "metadata": {},
   "source": [
    "<table>\n",
    "    <td>\n",
    "    <img src=\"./images/現代数理統計学/クラメルラオの不等式1.jpg\" height=200 width=500>\n",
    "    <img src=\"./images/現代数理統計学/クラメルラオの不等式2.jpg\" height=200 width=500>\n",
    "    </td>\n",
    "</table>"
   ]
  },
  {
   "cell_type": "markdown",
   "id": "940cce69-6f6d-47d8-ae80-0a2352bc750c",
   "metadata": {},
   "source": [
    "上の例からもわかるようにクラメル・ラオの不等式を用いるとUMVUEのための十分条件を与えることができる。\n",
    "\n",
    "---\n",
    "定理7.1(クラメル・ラオの下限とUMVUE)\n",
    "$$\n",
    "不偏推定量\\hat{\\theta}{}^*が任意の\\thetaについてVar_\\theta[\\hat{\\theta}{}^*]=\\frac{1}{I_n(\\theta)}を満たせば、\\hat{\\theta}{}^*は\\:UMVUE\\:である\n",
    "$$\n",
    "\n",
    "---"
   ]
  },
  {
   "cell_type": "code",
   "execution_count": null,
   "id": "d88330f9-9c94-4f11-82fa-c1fe0c96434e",
   "metadata": {},
   "outputs": [],
   "source": []
  }
 ],
 "metadata": {
  "kernelspec": {
   "display_name": "Python 3 (ipykernel)",
   "language": "python",
   "name": "python3"
  },
  "language_info": {
   "codemirror_mode": {
    "name": "ipython",
    "version": 3
   },
   "file_extension": ".py",
   "mimetype": "text/x-python",
   "name": "python",
   "nbconvert_exporter": "python",
   "pygments_lexer": "ipython3",
   "version": "3.9.12"
  }
 },
 "nbformat": 4,
 "nbformat_minor": 5
}
